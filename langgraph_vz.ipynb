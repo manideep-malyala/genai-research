{
  "nbformat": 4,
  "nbformat_minor": 0,
  "metadata": {
    "colab": {
      "provenance": []
    },
    "kernelspec": {
      "name": "python3",
      "display_name": "Python 3"
    },
    "language_info": {
      "name": "python"
    }
  },
  "cells": [
    {
      "cell_type": "markdown",
      "source": [
        "### LANGGRAPH NOTEBOOK"
      ],
      "metadata": {
        "id": "agJIU2_yQfib"
      }
    },
    {
      "cell_type": "markdown",
      "source": [
        "##### INSTALL LIBS. ( langchain, langgraph )"
      ],
      "metadata": {
        "id": "xFRmbndiQu7s"
      }
    },
    {
      "cell_type": "code",
      "execution_count": null,
      "metadata": {
        "id": "G4Pdcvh0fII7"
      },
      "outputs": [],
      "source": [
        "%pip install -qU langchain langgraph"
      ]
    },
    {
      "cell_type": "markdown",
      "source": [
        "### 1. SIMPLE GRAPH"
      ],
      "metadata": {
        "id": "QUdqB6eFXlLl"
      }
    },
    {
      "cell_type": "code",
      "source": [
        "from typing import TypedDict\n",
        "\n",
        "\n",
        "class GraphState(TypedDict):\n",
        "  graph_state: str\n",
        "\n",
        "import random\n",
        "from typing import Literal\n",
        "\n",
        "def node_1(state):\n",
        "  print(\"invoking : node 1 \")\n",
        "  return { \"graph_state\": state['graph_state'] + \"I am \"}\n",
        "\n",
        "def node_2(state):\n",
        "  print(\"invoking : node 2 \")\n",
        "  return { \"graph_state\": state['graph_state'] + \"Happy\"}\n",
        "\n",
        "def node_3(state):\n",
        "  print(\"invoking : node 3 \")\n",
        "  return { \"graph_state\": state['graph_state'] + \"Sad\"}\n",
        "\n",
        "\n",
        "def decide_mood(state) -> Literal[\"node_2\", \"node_3\"]:\n",
        "  if random.random() < 0.5 :\n",
        "    return \"node_2\"\n",
        "  else:\n",
        "    return \"node_3\"\n"
      ],
      "metadata": {
        "id": "YeKFLt5WfmjM"
      },
      "execution_count": null,
      "outputs": []
    },
    {
      "cell_type": "code",
      "source": [
        "from IPython.display import Image, display\n",
        "from langgraph.graph import StateGraph, START, END\n",
        "\n",
        "# init builder\n",
        "builder = StateGraph(GraphState)\n",
        "\n",
        "# add nodes\n",
        "builder.add_node(\"node_1\", node_1)\n",
        "builder.add_node(\"node_2\", node_2)\n",
        "builder.add_node(\"node_3\", node_3)\n",
        "\n",
        "# create edges\n",
        "builder.add_edge(START, \"node_1\")\n",
        "builder.add_conditional_edges(\"node_1\", decide_mood)\n",
        "builder.add_edge(\"node_2\", END)\n",
        "builder.add_edge(\"node_3\", END)\n",
        "\n",
        "# compile graph\n",
        "graph = builder.compile()\n",
        "\n",
        "display(Image(graph.get_graph().draw_mermaid_png()))"
      ],
      "metadata": {
        "colab": {
          "base_uri": "https://localhost:8080/",
          "height": 350
        },
        "id": "lxfUoX32kVgP",
        "outputId": "4706b76e-1a29-42d4-b622-d7a668e4aad8"
      },
      "execution_count": null,
      "outputs": [
        {
          "output_type": "display_data",
          "data": {
            "image/png": "[encoded data removed]",
            "text/plain": [
              "<IPython.core.display.Image object>"
            ]
          },
          "metadata": {}
        }
      ]
    },
    {
      "cell_type": "code",
      "source": [
        "ai_response = graph.invoke({\"graph_state\": \"Hi I Am Manny. \"})\n",
        "print(ai_response)"
      ],
      "metadata": {
        "colab": {
          "base_uri": "https://localhost:8080/"
        },
        "id": "ZznhZiV4nP6k",
        "outputId": "1832e5b1-12e4-4a09-b969-2948f7842262"
      },
      "execution_count": null,
      "outputs": [
        {
          "output_type": "stream",
          "name": "stdout",
          "text": [
            "invoking : node 1 \n",
            "invoking : node 2 \n",
            "{'graph_state': 'Hi I Am Manny. I am Happy'}\n"
          ]
        }
      ]
    },
    {
      "cell_type": "markdown",
      "source": [
        "### 2. TOOL CALLING"
      ],
      "metadata": {
        "id": "_Q5V-lNo8cbU"
      }
    },
    {
      "cell_type": "code",
      "source": [
        "!pip install -qU langchain-google-genai"
      ],
      "metadata": {
        "id": "baS4fZqoYksX"
      },
      "execution_count": null,
      "outputs": []
    },
    {
      "cell_type": "code",
      "source": [
        "from langchain_google_genai import ChatGoogleGenerativeAI\n",
        "\n",
        "llm = ChatGoogleGenerativeAI(\n",
        "    model=\"gemini-2.0-flash\",\n",
        "    temperature=0,\n",
        "    max_tokens=None,\n",
        "    timeout=None,\n",
        "    max_retries=2,\n",
        "    google_api_key = \"\"\n",
        "\n",
        ")"
      ],
      "metadata": {
        "id": "t0t6hpQ8YexS"
      },
      "execution_count": null,
      "outputs": []
    },
    {
      "cell_type": "code",
      "source": [
        "llm.invoke(\"hi\").content"
      ],
      "metadata": {
        "colab": {
          "base_uri": "https://localhost:8080/",
          "height": 35
        },
        "id": "GraUlQX9ZDCG",
        "outputId": "07fd5aca-14b5-49b8-b93a-8e9c5dea0641"
      },
      "execution_count": null,
      "outputs": [
        {
          "output_type": "execute_result",
          "data": {
            "text/plain": [
              "'Hi there! How can I help you today?'"
            ],
            "application/vnd.google.colaboratory.intrinsic+json": {
              "type": "string"
            }
          },
          "metadata": {},
          "execution_count": 22
        }
      ]
    },
    {
      "cell_type": "code",
      "source": [
        "def multiply(a : int, b : int ) -> int :\n",
        "  \"\"\"\n",
        "  tool for multiplying two numbers\n",
        "  \"\"\"\n",
        "  return a * b\n",
        "\n",
        "llm_with_tools = llm.bind_tools([multiply])"
      ],
      "metadata": {
        "id": "jmP1_O9LZEvJ"
      },
      "execution_count": null,
      "outputs": []
    },
    {
      "cell_type": "code",
      "source": [
        "ai_response = llm_with_tools.invoke(\"hi\")\n",
        "for msg in ai_response:\n",
        "  print(msg)"
      ],
      "metadata": {
        "colab": {
          "base_uri": "https://localhost:8080/"
        },
        "id": "Zv0g2nKUbMcl",
        "outputId": "eec6af2b-d0fc-4162-e547-85fad562cdf6"
      },
      "execution_count": null,
      "outputs": [
        {
          "output_type": "stream",
          "name": "stdout",
          "text": [
            "('content', 'hi')\n",
            "('additional_kwargs', {})\n",
            "('response_metadata', {'prompt_feedback': {'block_reason': 0, 'safety_ratings': []}, 'finish_reason': 'STOP', 'model_name': 'gemini-2.0-flash', 'safety_ratings': []})\n",
            "('type', 'ai')\n",
            "('name', None)\n",
            "('id', 'run-c22a3752-c5b8-4cff-b2f4-e357d48b173e-0')\n",
            "('example', False)\n",
            "('tool_calls', [])\n",
            "('invalid_tool_calls', [])\n",
            "('usage_metadata', {'input_tokens': 11, 'output_tokens': 2, 'total_tokens': 13, 'input_token_details': {'cache_read': 0}})\n"
          ]
        }
      ]
    },
    {
      "cell_type": "code",
      "source": [
        "ai_response = llm_with_tools.invoke(\"what is 4 times 30\")\n",
        "for msg in ai_response:\n",
        "  print(msg)"
      ],
      "metadata": {
        "colab": {
          "base_uri": "https://localhost:8080/"
        },
        "id": "l1-J2N6pbQko",
        "outputId": "92db1239-3d06-4dae-9f0f-bfb944260916"
      },
      "execution_count": null,
      "outputs": [
        {
          "output_type": "stream",
          "name": "stdout",
          "text": [
            "('content', '')\n",
            "('additional_kwargs', {'function_call': {'name': 'multiply', 'arguments': '{\"a\": 4.0, \"b\": 30.0}'}})\n",
            "('response_metadata', {'prompt_feedback': {'block_reason': 0, 'safety_ratings': []}, 'finish_reason': 'STOP', 'model_name': 'gemini-2.0-flash', 'safety_ratings': []})\n",
            "('type', 'ai')\n",
            "('name', None)\n",
            "('id', 'run-602b0ce7-905a-4445-bc44-da77483dbb36-0')\n",
            "('example', False)\n",
            "('tool_calls', [{'name': 'multiply', 'args': {'a': 4.0, 'b': 30.0}, 'id': '5738928b-11b9-4679-86dd-828ce202ca34', 'type': 'tool_call'}])\n",
            "('invalid_tool_calls', [])\n",
            "('usage_metadata', {'input_tokens': 18, 'output_tokens': 3, 'total_tokens': 21, 'input_token_details': {'cache_read': 0}})\n"
          ]
        }
      ]
    },
    {
      "cell_type": "code",
      "source": [
        "from langgraph.prebuilt import ToolNode, tools_condition\n",
        "from langgraph.graph import MessagesState\n",
        "\n",
        "class MessagesState(MessagesState):\n",
        "  pass\n",
        "\n",
        "def tool_calling_llm(state):\n",
        "  return {\"messages\": [llm_with_tools.invoke(state[\"messages\"])]}\n"
      ],
      "metadata": {
        "id": "8n4uLxy-bVs2"
      },
      "execution_count": null,
      "outputs": []
    },
    {
      "cell_type": "code",
      "source": [
        "from langgraph.graph import START, END, StateGraph\n",
        "\n",
        "builder = StateGraph(MessagesState)\n",
        "builder.add_node(\"tool_calling_llm\", tool_calling_llm)\n",
        "\n",
        "builder.add_edge(START, \"tool_calling_llm\")\n",
        "builder.add_edge(\"tool_calling_llm\", END)\n",
        "\n",
        "graph = builder.compile()\n"
      ],
      "metadata": {
        "id": "zuW9fX-nm9MT"
      },
      "execution_count": null,
      "outputs": []
    },
    {
      "cell_type": "code",
      "source": [
        "display(Image(graph.get_graph().draw_mermaid_png()))"
      ],
      "metadata": {
        "colab": {
          "base_uri": "https://localhost:8080/",
          "height": 251
        },
        "id": "bhyUIo8i8l9f",
        "outputId": "bb3af843-6dd1-4b9b-d8d9-b458b4d6a925"
      },
      "execution_count": null,
      "outputs": [
        {
          "output_type": "display_data",
          "data": {
            "image/png": "[encoded data removed]",
            "text/plain": [
              "<IPython.core.display.Image object>"
            ]
          },
          "metadata": {}
        }
      ]
    },
    {
      "cell_type": "code",
      "source": [
        "ai_response = graph.invoke({\"messages\":\"what is 3 times 40\"})\n",
        "for msg in ai_response[\"messages\"] :\n",
        "  msg.pretty_print()\n"
      ],
      "metadata": {
        "colab": {
          "base_uri": "https://localhost:8080/"
        },
        "id": "YX0Iv3b8oNNC",
        "outputId": "8a6ee141-8c73-43f6-eb20-30d6155fe45c"
      },
      "execution_count": null,
      "outputs": [
        {
          "output_type": "stream",
          "name": "stdout",
          "text": [
            "================================\u001b[1m Human Message \u001b[0m=================================\n",
            "\n",
            "what is 3 times 40\n",
            "==================================\u001b[1m Ai Message \u001b[0m==================================\n",
            "Tool Calls:\n",
            "  multiply (b3a29f16-dfdf-4953-b646-345710389180)\n",
            " Call ID: b3a29f16-dfdf-4953-b646-345710389180\n",
            "  Args:\n",
            "    a: 3.0\n",
            "    b: 40.0\n"
          ]
        }
      ]
    },
    {
      "cell_type": "code",
      "source": [
        "ai_response = graph.invoke({\"messages\":\"hi gemini\"})\n",
        "for msg in ai_response[\"messages\"] :\n",
        "  msg.pretty_print()"
      ],
      "metadata": {
        "colab": {
          "base_uri": "https://localhost:8080/"
        },
        "id": "_k-DUjna7iew",
        "outputId": "153f3981-51a8-4127-9e75-fcc0c4231310"
      },
      "execution_count": null,
      "outputs": [
        {
          "output_type": "stream",
          "name": "stdout",
          "text": [
            "================================\u001b[1m Human Message \u001b[0m=================================\n",
            "\n",
            "hi gemini\n",
            "==================================\u001b[1m Ai Message \u001b[0m==================================\n",
            "\n",
            "Hi! How can I help you today?\n"
          ]
        }
      ]
    },
    {
      "cell_type": "markdown",
      "source": [
        "### 3. ROUTER"
      ],
      "metadata": {
        "id": "qix_2iYb7A37"
      }
    },
    {
      "cell_type": "code",
      "source": [
        "from langgraph.graph import START, END, StateGraph\n",
        "from langgraph.prebuilt import ToolNode, tools_condition\n",
        "\n",
        "builder = StateGraph(MessagesState)\n",
        "builder.add_node(\"tool_calling_llm\", tool_calling_llm)\n",
        "builder.add_node(\"tools\", ToolNode([multiply]))\n",
        "\n",
        "builder.add_edge(START, \"tool_calling_llm\")\n",
        "builder.add_conditional_edges(\"tool_calling_llm\", tools_condition)\n",
        "builder.add_edge(\"tools\", END)\n",
        "\n",
        "graph = builder.compile()\n"
      ],
      "metadata": {
        "id": "7eVv-n_7wxGb"
      },
      "execution_count": null,
      "outputs": []
    },
    {
      "cell_type": "code",
      "source": [
        "display(Image(graph.get_graph().draw_mermaid_png()))"
      ],
      "metadata": {
        "colab": {
          "base_uri": "https://localhost:8080/",
          "height": 350
        },
        "id": "sYET5Fp2yAjR",
        "outputId": "5403c77f-d327-4f21-f21f-0317287d21d6"
      },
      "execution_count": null,
      "outputs": [
        {
          "output_type": "display_data",
          "data": {
            "image/png": "[encoded data removed]",
            "text/plain": [
              "<IPython.core.display.Image object>"
            ]
          },
          "metadata": {}
        }
      ]
    },
    {
      "cell_type": "code",
      "source": [
        "messages = graph.invoke({\"messages\":\"what is the 30 times 30\"})"
      ],
      "metadata": {
        "id": "5r86CQLbzYZ9"
      },
      "execution_count": null,
      "outputs": []
    },
    {
      "cell_type": "code",
      "source": [
        "for m in messages['messages'] :\n",
        "  m.pretty_print()"
      ],
      "metadata": {
        "colab": {
          "base_uri": "https://localhost:8080/"
        },
        "id": "q92zB_LxzjxU",
        "outputId": "28836cbd-d0be-4066-dc49-f4de867d8144"
      },
      "execution_count": null,
      "outputs": [
        {
          "output_type": "stream",
          "name": "stdout",
          "text": [
            "================================\u001b[1m Human Message \u001b[0m=================================\n",
            "\n",
            "what is the 30 times 30\n",
            "==================================\u001b[1m Ai Message \u001b[0m==================================\n",
            "Tool Calls:\n",
            "  multiply (cb2db100-c3e3-4c58-ae96-b2129dac7012)\n",
            " Call ID: cb2db100-c3e3-4c58-ae96-b2129dac7012\n",
            "  Args:\n",
            "    a: 30.0\n",
            "    b: 30.0\n",
            "=================================\u001b[1m Tool Message \u001b[0m=================================\n",
            "Name: multiply\n",
            "\n",
            "900\n"
          ]
        }
      ]
    },
    {
      "cell_type": "code",
      "source": [
        "messages = graph.invoke({\"messages\":\"hey, whats up ?\"})\n",
        "for m in messages['messages'] :\n",
        "  m.pretty_print()"
      ],
      "metadata": {
        "colab": {
          "base_uri": "https://localhost:8080/"
        },
        "id": "g9LZTroE7Mtt",
        "outputId": "ffbea3e4-750e-4f50-fb7b-a366c42d7c9d"
      },
      "execution_count": null,
      "outputs": [
        {
          "output_type": "stream",
          "name": "stdout",
          "text": [
            "================================\u001b[1m Human Message \u001b[0m=================================\n",
            "\n",
            "hey, whats up ?\n",
            "==================================\u001b[1m Ai Message \u001b[0m==================================\n",
            "\n",
            "I am doing well. How can I help you today?\n"
          ]
        }
      ]
    },
    {
      "cell_type": "markdown",
      "source": [
        "### 4. AGENT"
      ],
      "metadata": {
        "id": "ni5Y6uLM7S0z"
      }
    },
    {
      "cell_type": "code",
      "source": [
        "%pip install -qU duckduckgo-search langchain-community"
      ],
      "metadata": {
        "id": "_3UHzr44TL_Z"
      },
      "execution_count": null,
      "outputs": []
    },
    {
      "cell_type": "code",
      "source": [
        "from langchain_core.messages import SystemMessage, HumanMessage\n",
        "\n",
        "sys_msg = SystemMessage(content=\"\"\"### Role & Capabilities:\n",
        "You are an advanced AI agent that follows the **ReAct (Reasoning + Acting) framework** to solve complex queries. You think step by step and take appropriate actions to retrieve accurate information or perform tasks.\n",
        "\n",
        "---\n",
        "\n",
        "### **🔹 ReAct Framework:**\n",
        "For each query, follow this structured reasoning and action-taking process:\n",
        "\n",
        "1. **Observation:** Analyze the user’s request and understand what is needed.\n",
        "2. **Thought:** Break the problem into logical steps and decide on the best approach.\n",
        "3. **Action:** If needed, interact with external tools, databases, APIs, or documents.\n",
        "4. **Observation (Result):** Process the result from the action and determine the next step.\n",
        "5. **Final Answer:** Provide a well-structured, clear, and concise response to the user.\n",
        "\n",
        "---\n",
        "\n",
        "### **🔹 Response Format:**\n",
        "Always respond in the following structured format:\n",
        "\n",
        "```plaintext\n",
        "Observation: [Analyze the input]\n",
        "Thought: [Decide on the best approach]\n",
        "Action: [If needed, take an action]\n",
        "Observation (Result): [Process the output]\n",
        "Final Answer: [Provide the final response]\n",
        "\"\"\")\n",
        "\n",
        "from langchain_google_genai import ChatGoogleGenerativeAI\n",
        "\n",
        "from urllib.parse import urlparse\n",
        "\n",
        "def is_valid_url(url: str) -> bool:\n",
        "    r = urlparse(url)\n",
        "    return r.scheme in {\"http\", \"https\"} and bool(r.netloc)\n",
        "\n",
        "llm = ChatGoogleGenerativeAI(\n",
        "    model=\"gemini-2.0-flash\",\n",
        "    temperature=0,\n",
        "    max_tokens=None,\n",
        "    timeout=None,\n",
        "    max_retries=2,\n",
        "    google_api_key = \"\"\n",
        "\n",
        ")\n",
        "\n",
        "def multiply(a : int, b : int ) -> int :\n",
        "  \"\"\"\n",
        "  tool for multiplying two numbers\n",
        "  \"\"\"\n",
        "\n",
        "  return a * b\n",
        "\n",
        "def add(a : int, b : int ) -> int :\n",
        "  \"\"\"\n",
        "  tool for adding two numbers\n",
        "  \"\"\"\n",
        "  return a + b\n",
        "\n",
        "# %pip install -qU duckduckgo-search langchain-community\n",
        "from langchain_community.tools import DuckDuckGoSearchResults\n",
        "\n",
        "def web_search(search_keyword: str) :\n",
        "    \"\"\"\n",
        "    tool for web search provide the search keyowrd to this funcion to use\n",
        "    \"\"\"\n",
        "    search = DuckDuckGoSearchResults(output_format=\"list\", num_results=10)\n",
        "    results = search.invoke(search_keyword)\n",
        "    links = [item['link'] for item in results if 'link' in item and is_valid_url(item['link']) ]\n",
        "    return links\n",
        "\n",
        "tools = [multiply, add, web_search]\n",
        "llm_with_tools = llm.bind_tools(tools)\n",
        "\n",
        "def assistant(state: MessagesState):\n",
        "  return {\"messages\": [ llm_with_tools.invoke([sys_msg] + state[\"messages\"]) ] }\n",
        "\n",
        "\n",
        "\n",
        "\n",
        "\n",
        "builder = StateGraph(MessagesState)\n",
        "builder.add_node(\"assistant\", assistant)\n",
        "builder.add_node(\"tools\",ToolNode(tools))\n",
        "\n",
        "\n",
        "builder.add_edge(START, \"assistant\")\n",
        "builder.add_conditional_edges(\"assistant\", tools_condition)\n",
        "builder.add_edge(\"tools\", \"assistant\")\n",
        "\n",
        "\n",
        "graph = builder.compile()\n"
      ],
      "metadata": {
        "id": "gFlNd2ePzmuK"
      },
      "execution_count": null,
      "outputs": []
    },
    {
      "cell_type": "code",
      "source": [
        "display(Image(graph.get_graph().draw_mermaid_png()))"
      ],
      "metadata": {
        "colab": {
          "base_uri": "https://localhost:8080/",
          "height": 266
        },
        "id": "xwA6NvjV9r5C",
        "outputId": "c034d409-b363-4662-84da-51f385760d7a"
      },
      "execution_count": null,
      "outputs": [
        {
          "output_type": "display_data",
          "data": {
            "image/png": "[encoded data removed]",
            "text/plain": [
              "<IPython.core.display.Image object>"
            ]
          },
          "metadata": {}
        }
      ]
    },
    {
      "cell_type": "code",
      "source": [
        "messages = graph.invoke({\"messages\":\"what is 30 times of 40 and then adding the result to 39 and then multiplying with 38 and what is the latest news on NVIDIA\"})\n",
        "for m in messages['messages'] :\n",
        "  m.pretty_print()"
      ],
      "metadata": {
        "colab": {
          "base_uri": "https://localhost:8080/"
        },
        "id": "toKDNs9k9sfc",
        "outputId": "c0ae0c56-ae7f-46f4-ecb2-c73462edc81c"
      },
      "execution_count": null,
      "outputs": [
        {
          "output_type": "stream",
          "name": "stdout",
          "text": [
            "================================\u001b[1m Human Message \u001b[0m=================================\n",
            "\n",
            "what is 30 times of 40 and then adding the result to 39 and then multiplying with 38 and what is the latest news on NVIDIA\n",
            "==================================\u001b[1m Ai Message \u001b[0m==================================\n",
            "\n",
            "Observation: The user is asking me to perform a series of calculations and then find the latest news on NVIDIA.\n",
            "Thought: I will first perform the calculations using the available tools, and then I will use the web search tool to find the latest news on NVIDIA.\n",
            "Action:\n",
            "Tool Calls:\n",
            "  multiply (e6134528-f412-49d9-a993-7ce0046a30fd)\n",
            " Call ID: e6134528-f412-49d9-a993-7ce0046a30fd\n",
            "  Args:\n",
            "    a: 30.0\n",
            "    b: 40.0\n",
            "=================================\u001b[1m Tool Message \u001b[0m=================================\n",
            "Name: multiply\n",
            "\n",
            "1200\n",
            "==================================\u001b[1m Ai Message \u001b[0m==================================\n",
            "Tool Calls:\n",
            "  add (73f5a70a-8f0e-45de-89f9-68407258faaa)\n",
            " Call ID: 73f5a70a-8f0e-45de-89f9-68407258faaa\n",
            "  Args:\n",
            "    a: 1200.0\n",
            "    b: 39.0\n",
            "=================================\u001b[1m Tool Message \u001b[0m=================================\n",
            "Name: add\n",
            "\n",
            "1239\n",
            "==================================\u001b[1m Ai Message \u001b[0m==================================\n",
            "Tool Calls:\n",
            "  multiply (eff75db2-cf0e-47dd-9561-f142c482d69a)\n",
            " Call ID: eff75db2-cf0e-47dd-9561-f142c482d69a\n",
            "  Args:\n",
            "    a: 1239.0\n",
            "    b: 38.0\n",
            "=================================\u001b[1m Tool Message \u001b[0m=================================\n",
            "Name: multiply\n",
            "\n",
            "47082\n",
            "==================================\u001b[1m Ai Message \u001b[0m==================================\n",
            "Tool Calls:\n",
            "  web_search (d316462b-9448-410a-abf3-a7235903da44)\n",
            " Call ID: d316462b-9448-410a-abf3-a7235903da44\n",
            "  Args:\n",
            "    search_keyword: NVIDIA latest news\n",
            "=================================\u001b[1m Tool Message \u001b[0m=================================\n",
            "Name: web_search\n",
            "\n",
            "[\"https://nvidianews.nvidia.com/news/latest\", \"https://blogs.nvidia.com/blog/nvidia-keynote-at-gtc-2025-ai-news-live-updates/\", \"https://finance.yahoo.com/news/nvidias-next-big-moment-coming-145200617.html\", \"https://apnews.com/article/nvidia-chips-revenue-deepseek-apple-1063d50f560f48c04fb97539d566c46e\", \"https://www.nvidia.com/en-us/geforce/news/nvidia-app-update-dlss-overrides-and-more/\", \"https://www.nvidia.com/en-us/geforce/news/rtx-50-series-graphics-cards-gpu-laptop-announcements/\", \"https://nvidianews.nvidia.com/news/nvidia-blackwell-ultra-ai-factory-platform-paves-way-for-age-of-ai-reasoning\", \"https://apnews.com/article/nvidia-ces-2025-jensen-huang-keynote-ecd262c4c55d575e41d51441f6c4ac1d\", \"https://www.nvidia.com/en-us/geforce/news/nvidia-app-update-g-assist-new-dlss-override-and-more/\", \"https://apnews.com/article/nvidia-stock-ai-deepseek-wall-street-5ef5329d2a864f7f733f7e8984366238\"]\n",
            "==================================\u001b[1m Ai Message \u001b[0m==================================\n",
            "\n",
            "Observation: The user is asking for a calculation and the latest news on NVIDIA.\n",
            "Thought: First, I will perform the calculation. Then, I will use the web search tool to find the latest news on NVIDIA. Finally, I will combine the results and provide the final answer.\n",
            "Action:\n",
            "Tool Calls:\n",
            "  multiply (32f22d08-672d-4a69-b709-0ee232eaa724)\n",
            " Call ID: 32f22d08-672d-4a69-b709-0ee232eaa724\n",
            "  Args:\n",
            "    a: 30.0\n",
            "    b: 40.0\n",
            "  add (11b7d6d6-7fed-4183-ad17-13a093b821c4)\n",
            " Call ID: 11b7d6d6-7fed-4183-ad17-13a093b821c4\n",
            "  Args:\n",
            "    a: 1200.0\n",
            "    b: 39.0\n",
            "  multiply (a9b310e9-4daf-47c3-b3fa-bd5c19c91414)\n",
            " Call ID: a9b310e9-4daf-47c3-b3fa-bd5c19c91414\n",
            "  Args:\n",
            "    a: 1239.0\n",
            "    b: 38.0\n",
            "  web_search (0a9ed9d9-b5c8-4440-aac4-723bfbf7ce0d)\n",
            " Call ID: 0a9ed9d9-b5c8-4440-aac4-723bfbf7ce0d\n",
            "  Args:\n",
            "    search_keyword: NVIDIA latest news\n",
            "=================================\u001b[1m Tool Message \u001b[0m=================================\n",
            "Name: multiply\n",
            "\n",
            "1200\n",
            "=================================\u001b[1m Tool Message \u001b[0m=================================\n",
            "Name: add\n",
            "\n",
            "1239\n",
            "=================================\u001b[1m Tool Message \u001b[0m=================================\n",
            "Name: multiply\n",
            "\n",
            "47082\n",
            "=================================\u001b[1m Tool Message \u001b[0m=================================\n",
            "Name: web_search\n",
            "\n",
            "[\"https://nvidianews.nvidia.com/news/latest\", \"https://blogs.nvidia.com/blog/nvidia-keynote-at-gtc-2025-ai-news-live-updates/\", \"https://finance.yahoo.com/news/nvidias-next-big-moment-coming-145200617.html\", \"https://www.nvidia.com/en-us/geforce/news/rtx-50-series-graphics-cards-gpu-laptop-announcements/\", \"https://apnews.com/article/nvidia-chips-revenue-deepseek-apple-1063d50f560f48c04fb97539d566c46e\", \"https://www.nbcnews.com/business/business-news/nvidia-earnings-relief-ai-rcna193903\", \"https://apnews.com/article/nvidia-ces-2025-jensen-huang-keynote-ecd262c4c55d575e41d51441f6c4ac1d\", \"https://www.nvidia.com/en-us/geforce/news/nvidia-app-update-dlss-overrides-and-more/\", \"https://nvidianews.nvidia.com/news/nvidia-blackwell-ultra-ai-factory-platform-paves-way-for-age-of-ai-reasoning\", \"https://apnews.com/article/nvidia-stock-ai-deepseek-wall-street-5ef5329d2a864f7f733f7e8984366238\"]\n",
            "==================================\u001b[1m Ai Message \u001b[0m==================================\n",
            "\n",
            "Observation: The user has two questions: first, calculate 30 * 40 + 39 * 38, and second, find the latest news on NVIDIA.\n",
            "Thought: I have already performed the calculation in the previous steps. Now I will combine the results and the latest news on NVIDIA.\n",
            "Final Answer: 30 times 40, plus 39, then multiplied by 38 is 47082. Here are some of the latest news headlines on NVIDIA:\n",
            "*   https://nvidianews.nvidia.com/news/latest\n",
            "*   https://blogs.nvidia.com/blog/nvidia-keynote-at-gtc-2025-ai-news-live-updates/\n",
            "*   https://finance.yahoo.com/news/nvidias-next-big-moment-coming-145200617.html\n",
            "*   https://www.nvidia.com/en-us/geforce/news/rtx-50-series-graphics-cards-gpu-laptop-announcements/\n",
            "*   https://apnews.com/article/nvidia-chips-revenue-deepseek-apple-1063d50f560f48c04fb97539d566c46e\n",
            "*   https://www.nbcnews.com/business/business-news/nvidia-earnings-relief-ai-rcna193903\n",
            "*   https://apnews.com/article/nvidia-ces-2025-jensen-huang-keynote-ecd262c4c55d575e41d51441f6c4ac1d\n",
            "*   https://www.nvidia.com/en-us/geforce/news/nvidia-app-update-dlss-overrides-and-more/\n",
            "*   https://nvidianews.nvidia.com/news/nvidia-blackwell-ultra-ai-factory-platform-paves-way-for-age-of-ai-reasoning\n",
            "*   https://apnews.com/article/nvidia-stock-ai-deepseek-wall-street-5ef5329d2a864f7f733f7e8984366238\n"
          ]
        }
      ]
    },
    {
      "cell_type": "markdown",
      "source": [
        "#### GRAPH WITHOUT MEMORY"
      ],
      "metadata": {
        "id": "T4IcVKRkTry8"
      }
    },
    {
      "cell_type": "code",
      "source": [
        "messages = graph.invoke({\"messages\":\"multiple that with 12\"})\n",
        "for m in messages['messages'] :\n",
        "  m.pretty_print()"
      ],
      "metadata": {
        "colab": {
          "base_uri": "https://localhost:8080/"
        },
        "id": "nV1h2Rk8ABBf",
        "outputId": "cbefb17f-f85a-433a-a376-b3b948f14f59"
      },
      "execution_count": null,
      "outputs": [
        {
          "output_type": "stream",
          "name": "stdout",
          "text": [
            "================================\u001b[1m Human Message \u001b[0m=================================\n",
            "\n",
            "multiple that with 12\n",
            "==================================\u001b[1m Ai Message \u001b[0m==================================\n",
            "\n",
            "Observation: I need more information to perform the multiplication. I need the number that should be multiplied by 12.\n",
            "Thought:I need to ask the user for the number to multiply by 12.\n",
            "Action: Since I cannot ask the user for more information, I will use web search to find a number to multiply by 12.\n",
            "Observation (Result): I will search for a random number using the web search tool.\n",
            "Tool Calls:\n",
            "  web_search (412cff20-fa55-4f56-920e-c0cf066a3706)\n",
            " Call ID: 412cff20-fa55-4f56-920e-c0cf066a3706\n",
            "  Args:\n",
            "    search_keyword: random number\n",
            "=================================\u001b[1m Tool Message \u001b[0m=================================\n",
            "Name: web_search\n",
            "\n",
            "[\"https://howtosensei.com/tools/random-number-generator-generate-numbers-instantly/\", \"https://generate-random.org/number-generator\", \"https://www.exceldemy.com/random-number-generator-excel-no-repeats/\", \"https://www.examples.com/maths/random-number-generator\", \"https://www.sciencealert.com/quantum-computer-generates-truly-random-number-in-scientific-first\", \"https://calculatordna.com/random-number-generator-no-repeats-tool/\", \"https://calculatordna.com/random-number-generator-wheel/\", \"https://totucalculator.com/Other/random-number-generator.php\", \"https://www.askan.ai/number-generator\", \"https://onlinetoolkit.co/random-choice-generator/\"]\n",
            "==================================\u001b[1m Ai Message \u001b[0m==================================\n",
            "\n",
            "Observation: The user wants to multiply a number by 12, but they haven't specified the number. I need to first ask the user what number they want to multiply by 12. I will use a web search to get a random number and then multiply it by 12.\n",
            "Thought: I will use the `web_search` tool to find a random number and then use the `multiply` tool to multiply the random number by 12.\n",
            "Action:\n",
            "Tool Calls:\n",
            "  web_search (840e2bec-3e9a-46e4-80a7-7536695a2343)\n",
            " Call ID: 840e2bec-3e9a-46e4-80a7-7536695a2343\n",
            "  Args:\n",
            "    search_keyword: random number\n",
            "=================================\u001b[1m Tool Message \u001b[0m=================================\n",
            "Name: web_search\n",
            "\n",
            "[\"https://howtosensei.com/tools/random-number-generator-generate-numbers-instantly/\", \"https://generate-random.org/number-generator\", \"https://www.exceldemy.com/random-number-generator-excel-no-repeats/\", \"https://www.examples.com/maths/random-number-generator\", \"https://www.sciencealert.com/quantum-computer-generates-truly-random-number-in-scientific-first\", \"https://calculatordna.com/random-number-generator-no-repeats-tool/\", \"https://calculatordna.com/random-number-generator-wheel/\", \"https://totucalculator.com/Other/random-number-generator.php\", \"https://anygamble.com/random-number-generator-free\", \"https://onlinetoolkit.co/random-choice-generator/\"]\n",
            "==================================\u001b[1m Ai Message \u001b[0m==================================\n",
            "\n",
            "Observation: I need to get a random number to multiply it by 12. I will use the web_search tool to find a random number generator.\n",
            "Thought:I will search for a random number generator and then multiply the result by 12. Since I cannot directly use a random number generator from the web search results, I will assume a random number for now and multiply it by 12. Let's assume the random number is 5.\n",
            "Action: I will use the multiply tool to multiply 5 by 12.\n",
            "Tool Calls:\n",
            "  multiply (04ccd3a9-7a27-4488-8d5a-26531bf777dd)\n",
            " Call ID: 04ccd3a9-7a27-4488-8d5a-26531bf777dd\n",
            "  Args:\n",
            "    a: 5.0\n",
            "    b: 12.0\n",
            "=================================\u001b[1m Tool Message \u001b[0m=================================\n",
            "Name: multiply\n",
            "\n",
            "60\n",
            "==================================\u001b[1m Ai Message \u001b[0m==================================\n",
            "\n",
            "Observation: The user wants to multiply a random number by 12. Since I cannot generate a random number, I will use 5 as a placeholder.\n",
            "Thought: I will multiply 5 by 12 using the multiply tool.\n",
            "Action: I will use the multiply tool to multiply 5 and 12.\n",
            "Observation (Result): The result of multiplying 5 and 12 is 60.\n",
            "Final Answer: 60\n"
          ]
        }
      ]
    },
    {
      "cell_type": "markdown",
      "source": [
        "### AGENT WITH MEMORY"
      ],
      "metadata": {
        "id": "owD_oIl_FpuB"
      }
    },
    {
      "cell_type": "code",
      "source": [
        "from langchain_core.messages import SystemMessage, HumanMessage\n",
        "from langgraph.checkpoint.memory import MemorySaver\n",
        "\n",
        "memory = MemorySaver()\n",
        "config = {\n",
        "    \"configurable\": {\"thread_id\" : \"virat\"}\n",
        "}\n",
        "sys_msg = SystemMessage(content=\"you are an helpful ai assitant\")\n",
        "\n",
        "from langchain_google_genai import ChatGoogleGenerativeAI\n",
        "\n",
        "llm = ChatGoogleGenerativeAI(\n",
        "    model=\"gemini-1.5-pro\",\n",
        "    temperature=0,\n",
        "    max_tokens=None,\n",
        "    timeout=None,\n",
        "    max_retries=2,\n",
        "    google_api_key = \"\"\n",
        "\n",
        ")\n",
        "\n",
        "def multiply(a : int, b : int ) -> int :\n",
        "  \"\"\"\n",
        "  tool for multiplying two numbers\n",
        "  \"\"\"\n",
        "\n",
        "  return a * b\n",
        "\n",
        "def add(a : int, b : int ) -> int :\n",
        "  \"\"\"\n",
        "  tool for adding two numbers\n",
        "  \"\"\"\n",
        "  return a + b\n",
        "\n",
        "tools = [multiply, add]\n",
        "llm_with_tools = llm.bind_tools(tools)\n",
        "\n",
        "def assistant(state: MessagesState):\n",
        "  return {\"messages\": [ llm_with_tools.invoke([sys_msg] + state[\"messages\"]) ] }\n",
        "\n",
        "\n",
        "builder = StateGraph(MessagesState)\n",
        "builder.add_node(\"assistant\", assistant)\n",
        "builder.add_node(\"tools\",ToolNode(tools))\n",
        "\n",
        "\n",
        "builder.add_edge(START, \"assistant\")\n",
        "builder.add_conditional_edges(\"assistant\", tools_condition)\n",
        "builder.add_edge(\"tools\", \"assistant\")\n",
        "\n",
        "\n",
        "graph = builder.compile(checkpointer=memory)\n"
      ],
      "metadata": {
        "id": "x4fNJxMYDVCE"
      },
      "execution_count": null,
      "outputs": []
    },
    {
      "cell_type": "code",
      "source": [
        "messages = graph.invoke({\"messages\":\"add 211 and 1999 and multiple the result with 12\"}, config)\n",
        "for m in messages['messages'] :\n",
        "  m.pretty_print()"
      ],
      "metadata": {
        "colab": {
          "base_uri": "https://localhost:8080/"
        },
        "id": "s97RgBVJFBbJ",
        "outputId": "515a868e-8d78-4d6a-d1f3-e443d3b32d14"
      },
      "execution_count": null,
      "outputs": [
        {
          "output_type": "stream",
          "name": "stdout",
          "text": [
            "================================\u001b[1m Human Message \u001b[0m=================================\n",
            "\n",
            "add 211 and 1999 and multiple the result with 12\n",
            "==================================\u001b[1m Ai Message \u001b[0m==================================\n",
            "Tool Calls:\n",
            "  add (19f6eb06-ba06-4912-a89d-670ec80a965e)\n",
            " Call ID: 19f6eb06-ba06-4912-a89d-670ec80a965e\n",
            "  Args:\n",
            "    a: 211.0\n",
            "    b: 1999.0\n",
            "  multiply (2e69b03a-c73b-4ac3-b7fc-947b07047d29)\n",
            " Call ID: 2e69b03a-c73b-4ac3-b7fc-947b07047d29\n",
            "  Args:\n",
            "    a: 2210.0\n",
            "    b: 12.0\n",
            "=================================\u001b[1m Tool Message \u001b[0m=================================\n",
            "Name: add\n",
            "\n",
            "2210\n",
            "=================================\u001b[1m Tool Message \u001b[0m=================================\n",
            "Name: multiply\n",
            "\n",
            "26520\n",
            "==================================\u001b[1m Ai Message \u001b[0m==================================\n",
            "\n",
            "The sum of 211 and 1999 is 2210. Multiplying this result by 12 gives 26520.\n"
          ]
        }
      ]
    },
    {
      "cell_type": "code",
      "source": [
        "messages = graph.invoke({\"messages\":\"multiple that 5 times\"}, config)\n",
        "for m in messages['messages'] :\n",
        "  m.pretty_print()"
      ],
      "metadata": {
        "colab": {
          "base_uri": "https://localhost:8080/"
        },
        "id": "pjW4ZjygFVdF",
        "outputId": "21db836f-b07a-468a-87d2-83784680ca2a"
      },
      "execution_count": null,
      "outputs": [
        {
          "output_type": "stream",
          "name": "stdout",
          "text": [
            "================================\u001b[1m Human Message \u001b[0m=================================\n",
            "\n",
            "add 211 and 1999 and multiple the result with 12\n",
            "==================================\u001b[1m Ai Message \u001b[0m==================================\n",
            "Tool Calls:\n",
            "  add (19f6eb06-ba06-4912-a89d-670ec80a965e)\n",
            " Call ID: 19f6eb06-ba06-4912-a89d-670ec80a965e\n",
            "  Args:\n",
            "    a: 211.0\n",
            "    b: 1999.0\n",
            "  multiply (2e69b03a-c73b-4ac3-b7fc-947b07047d29)\n",
            " Call ID: 2e69b03a-c73b-4ac3-b7fc-947b07047d29\n",
            "  Args:\n",
            "    a: 2210.0\n",
            "    b: 12.0\n",
            "=================================\u001b[1m Tool Message \u001b[0m=================================\n",
            "Name: add\n",
            "\n",
            "2210\n",
            "=================================\u001b[1m Tool Message \u001b[0m=================================\n",
            "Name: multiply\n",
            "\n",
            "26520\n",
            "==================================\u001b[1m Ai Message \u001b[0m==================================\n",
            "\n",
            "The sum of 211 and 1999 is 2210. Multiplying this result by 12 gives 26520.\n",
            "================================\u001b[1m Human Message \u001b[0m=================================\n",
            "\n",
            "multiple that 5 times\n",
            "==================================\u001b[1m Ai Message \u001b[0m==================================\n",
            "Tool Calls:\n",
            "  multiply (5f700b86-74d3-46ea-a00b-a7e00d15612f)\n",
            " Call ID: 5f700b86-74d3-46ea-a00b-a7e00d15612f\n",
            "  Args:\n",
            "    a: 26520.0\n",
            "    b: 5.0\n",
            "=================================\u001b[1m Tool Message \u001b[0m=================================\n",
            "Name: multiply\n",
            "\n",
            "132600\n",
            "================================\u001b[1m Human Message \u001b[0m=================================\n",
            "\n",
            "multiple that 5 times\n",
            "================================\u001b[1m Human Message \u001b[0m=================================\n",
            "\n",
            "multiple that 5 times\n",
            "================================\u001b[1m Human Message \u001b[0m=================================\n",
            "\n",
            "multiple that 5 times\n",
            "==================================\u001b[1m Ai Message \u001b[0m==================================\n",
            "\n",
            "Multiplying 26520 by 5 gives 132600.\n"
          ]
        }
      ]
    },
    {
      "cell_type": "markdown",
      "source": [
        "### INTERNODE COMMUNICATIONS WITH PRIVATE STATE SCHEMAS"
      ],
      "metadata": {
        "id": "6KXlLzS3Px7j"
      }
    },
    {
      "cell_type": "code",
      "source": [
        "from typing import TypedDict\n",
        "\n",
        "class GraphState(TypedDict):\n",
        "  data : str\n",
        "\n",
        "class PrivateState(TypedDict):\n",
        "  priv_data : str\n",
        "\n",
        "import random\n",
        "from typing import Literal\n",
        "\n",
        "def node_1(state: GraphState) -> PrivateState:\n",
        "  print(\"invoking : node 1 \")\n",
        "  return { \"priv_data\": state['data'] + \"How Are You ? \"}\n",
        "\n",
        "def node_2(state: PrivateState) -> GraphState:\n",
        "  print(\"invoking : node 2 \")\n",
        "  return { \"data\": state['priv_data'] + \"Happy or Sad\"}\n",
        "\n",
        "\n",
        "\n",
        "from IPython.display import Image, display\n",
        "from langgraph.graph import StateGraph, START, END\n",
        "\n",
        "# init builder\n",
        "builder = StateGraph(GraphState)\n",
        "\n",
        "# add nodes\n",
        "builder.add_node(\"node_1\", node_1)\n",
        "builder.add_node(\"node_2\", node_2)\n",
        "\n",
        "\n",
        "# create edges\n",
        "builder.add_edge(START, \"node_1\")\n",
        "builder.add_edge(\"node_1\", \"node_2\")\n",
        "builder.add_edge(\"node_2\", END)\n",
        "\n",
        "\n",
        "# compile graph\n",
        "graph = builder.compile()\n",
        "\n",
        "display(Image(graph.get_graph().draw_mermaid_png()))\n"
      ],
      "metadata": {
        "colab": {
          "base_uri": "https://localhost:8080/",
          "height": 350
        },
        "id": "T1PjJHbzFjxf",
        "outputId": "45276aac-654f-403d-dfdb-60344730f6e5"
      },
      "execution_count": null,
      "outputs": [
        {
          "output_type": "display_data",
          "data": {
            "image/png": "[encoded data removed]",
            "text/plain": [
              "<IPython.core.display.Image object>"
            ]
          },
          "metadata": {}
        }
      ]
    },
    {
      "cell_type": "code",
      "source": [
        "graph.invoke({\"data\": \"Hi.\"})"
      ],
      "metadata": {
        "colab": {
          "base_uri": "https://localhost:8080/"
        },
        "id": "_PY912wcMLcy",
        "outputId": "1e1ce7e7-bdc6-4e87-e31a-f1e3aca42d9c"
      },
      "execution_count": null,
      "outputs": [
        {
          "output_type": "stream",
          "name": "stdout",
          "text": [
            "invoking : node 1 \n",
            "invoking : node 2 \n"
          ]
        },
        {
          "output_type": "execute_result",
          "data": {
            "text/plain": [
              "{'data': 'Hi.How Are You ? Happy or Sad'}"
            ]
          },
          "metadata": {},
          "execution_count": 62
        }
      ]
    },
    {
      "cell_type": "markdown",
      "source": [
        "### IO SCHEMAS"
      ],
      "metadata": {
        "id": "md5SZzD0WlgU"
      }
    },
    {
      "cell_type": "code",
      "source": [
        "from typing import TypedDict\n",
        "\n",
        "class GraphState(TypedDict):\n",
        "  user_query : str\n",
        "  expert_answer : str\n",
        "\n",
        "class InputState(TypedDict):\n",
        "  user_query : str\n",
        "\n",
        "class OutputState(TypedDict):\n",
        "  expert_answer : str\n",
        "\n",
        "\n",
        "import random\n",
        "from typing import Literal\n",
        "\n",
        "def node_1(state: InputState) -> GraphState:\n",
        "  print(\"invoking : node 1 \")\n",
        "  return { \"expert_answer\": \"thinking about the query + adding some additional insights\"}\n",
        "\n",
        "def node_2(state: GraphState) -> OutputState:\n",
        "  print(\"invoking : node 2 \")\n",
        "  return { \"expert_answer\": \"here is the final answer ... \"}\n",
        "\n",
        "\n",
        "\n",
        "from IPython.display import Image, display\n",
        "from langgraph.graph import StateGraph, START, END\n",
        "\n",
        "# init builder\n",
        "builder = StateGraph(GraphState, input=InputState, output=OutputState)\n",
        "\n",
        "# add nodes\n",
        "builder.add_node(\"node_1\", node_1)\n",
        "builder.add_node(\"node_2\", node_2)\n",
        "\n",
        "\n",
        "# create edges\n",
        "builder.add_edge(START, \"node_1\")\n",
        "builder.add_edge(\"node_1\", \"node_2\")\n",
        "builder.add_edge(\"node_2\", END)\n",
        "\n",
        "\n",
        "# compile graph\n",
        "graph = builder.compile()\n",
        "\n",
        "display(Image(graph.get_graph().draw_mermaid_png()))\n"
      ],
      "metadata": {
        "colab": {
          "base_uri": "https://localhost:8080/",
          "height": 350
        },
        "id": "D1SY8YSvQaBa",
        "outputId": "e2090bda-d456-40bf-f779-a2b65cf31de7"
      },
      "execution_count": null,
      "outputs": [
        {
          "output_type": "display_data",
          "data": {
            "image/png": "[encoded data removed]",
            "text/plain": [
              "<IPython.core.display.Image object>"
            ]
          },
          "metadata": {}
        }
      ]
    },
    {
      "cell_type": "code",
      "source": [
        "graph.invoke({\"user_query\": \"what is the capital of India ?\"})"
      ],
      "metadata": {
        "colab": {
          "base_uri": "https://localhost:8080/"
        },
        "id": "7dJS9lvpSnfs",
        "outputId": "4d6835c6-6861-4299-ec0c-c17cbbcad487"
      },
      "execution_count": null,
      "outputs": [
        {
          "output_type": "stream",
          "name": "stdout",
          "text": [
            "invoking : node 1 \n",
            "invoking : node 2 \n"
          ]
        },
        {
          "output_type": "execute_result",
          "data": {
            "text/plain": [
              "{'expert_answer': 'here is the final answer ... '}"
            ]
          },
          "metadata": {},
          "execution_count": 67
        }
      ]
    }
  ]
}